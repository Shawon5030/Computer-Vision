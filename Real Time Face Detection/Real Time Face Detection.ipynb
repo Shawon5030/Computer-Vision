{
 "cells": [
  {
   "cell_type": "code",
   "execution_count": null,
   "id": "9d05dc54",
   "metadata": {},
   "outputs": [],
   "source": [
    "import cv2  # Importing the OpenCV library for computer vision tasks.\n",
    "import mediapipe as mp  # Importing the Mediapipe library for various AI solutions, including face detection.\n",
    "\n",
    "video = cv2.VideoCapture(0)  # Opening a connection to the default camera (index 0) for capturing video you can us 1,2 also\n",
    "\n",
    "while video.isOpened():  # Looping over the video capture until it's open.\n",
    "    b, frame = video.read()  # Reading the next frame from the video capture.\n",
    "    if b == True:  # Checking if the frame was successfully read.\n",
    "        \n",
    "        frame = cv2.resize(frame, (700, 400))  # Resizing the frame to a specific width and height.\n",
    "        rgb = cv2.cvtColor(frame, cv2.COLOR_BGR2RGB)  # Converting the color space of the frame from BGR to RGB.\n",
    "    \n",
    "        result = mp.solutions.face_detection.FaceDetection().process(rgb)  # Using Mediapipe for face detection on the frame.\n",
    "        draw = mp.solutions.drawing_utils  # Importing drawing utilities from Mediapipe.\n",
    "    \n",
    "        if result is not None and result.detections is not None:  # Checking if faces were detected.\n",
    "            \n",
    "            for i in result.detections:  # Looping over each detected face.\n",
    "                draw.draw_detection(frame, i)  # Drawing bounding boxes around the detected faces.\n",
    "            cv2.imshow('Real Time Face Detection', frame)  # Displaying the frame with face detections.\n",
    "            out.write(frame)  # Writing the frame with face detections to an output file (assuming 'out' is defined elsewhere).\n",
    "        if cv2.waitKey(25) & 0xff == ord('q'):  # Waiting for a key press for 25 seconds and checking if it's 'q' to exit the loop.\n",
    "            break\n",
    "    else:  # If reading the frame was unsuccessful, exit the loop.\n",
    "        break\n",
    "\n",
    "video.release()  # Releasing the video capture resource.\n",
    "cv2.destroyAllWindows()  # Closing all OpenCV windows.\n",
    "\n",
    "    \n",
    "    "
   ]
  },
  {
   "cell_type": "code",
   "execution_count": null,
   "id": "552ad19b",
   "metadata": {},
   "outputs": [],
   "source": []
  },
  {
   "cell_type": "code",
   "execution_count": null,
   "id": "8b4536bd",
   "metadata": {},
   "outputs": [],
   "source": []
  },
  {
   "cell_type": "code",
   "execution_count": null,
   "id": "e6d5f8cf",
   "metadata": {},
   "outputs": [],
   "source": []
  }
 ],
 "metadata": {
  "kernelspec": {
   "display_name": "Python 3 (ipykernel)",
   "language": "python",
   "name": "python3"
  },
  "language_info": {
   "codemirror_mode": {
    "name": "ipython",
    "version": 3
   },
   "file_extension": ".py",
   "mimetype": "text/x-python",
   "name": "python",
   "nbconvert_exporter": "python",
   "pygments_lexer": "ipython3",
   "version": "3.11.5"
  }
 },
 "nbformat": 4,
 "nbformat_minor": 5
}
